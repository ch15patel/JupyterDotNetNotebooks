{
 "cells": [
  {
   "cell_type": "code",
   "execution_count": 1,
   "metadata": {
    "dotnet_interactive": {
     "language": "csharp"
    },
    "polyglot_notebook": {
     "kernelName": "csharp"
    },
    "vscode": {
     "languageId": "polyglot-notebook"
    }
   },
   "outputs": [
    {
     "name": "stdout",
     "output_type": "stream",
     "text": [
      ".NET 9.0.2\n",
      ".NET\n",
      "9.0.2\n",
      "9.0.2"
     ]
    }
   ],
   "source": [
    "public static string GetFrameworkDescription()\n",
    "{\n",
    "    return System\n",
    "        .Runtime\n",
    "        .InteropServices\n",
    "        .RuntimeInformation\n",
    "        .FrameworkDescription;\n",
    "}\n",
    "\n",
    "Console.WriteLine(GetFrameworkDescription()); // output: .NET 7.0\n",
    "var parts = GetFrameworkDescription().Split(\" \");\n",
    "var name = parts[0];\n",
    "Console.WriteLine(name); // output: .NET\n",
    "var version = parts[1];\n",
    "Console.WriteLine(version); // output: 7.0\n",
    "Console.Write(Environment.Version.ToString());"
   ]
  },
  {
   "cell_type": "code",
   "execution_count": 2,
   "metadata": {
    "dotnet_interactive": {
     "language": "csharp"
    },
    "polyglot_notebook": {
     "kernelName": "csharp"
    },
    "vscode": {
     "languageId": "polyglot-notebook"
    }
   },
   "outputs": [
    {
     "name": "stdout",
     "output_type": "stream",
     "text": [
      "1 2 3 \n"
     ]
    }
   ],
   "source": [
    "public void Concat<T>(params ReadOnlySpan<T> items)\n",
    "{\n",
    "    for (int i = 0; i < items.Length; i++)\n",
    "    {\n",
    "        Console.Write(items[i]);\n",
    "        Console.Write(\" \");\n",
    "    }\n",
    "    Console.WriteLine();\n",
    "}\n",
    "\n",
    "Concat<int>(new int[] { 1, 2, 3 });"
   ]
  }
 ],
 "metadata": {
  "kernelspec": {
   "display_name": ".NET (C#)",
   "language": "C#",
   "name": ".net-csharp"
  },
  "language_info": {
   "file_extension": ".cs",
   "mimetype": "text/x-csharp",
   "name": "C#",
   "pygments_lexer": "csharp",
   "version": "13.0"
  },
  "polyglot_notebook": {
   "kernelInfo": {
    "defaultKernelName": "csharp",
    "items": [
     {
      "aliases": [],
      "name": "csharp"
     }
    ]
   }
  }
 },
 "nbformat": 4,
 "nbformat_minor": 2
}
