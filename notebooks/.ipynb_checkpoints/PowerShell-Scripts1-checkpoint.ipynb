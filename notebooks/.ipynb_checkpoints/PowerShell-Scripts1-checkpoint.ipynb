{
 "cells": [
  {
   "cell_type": "code",
   "execution_count": 4,
   "id": "bcd74680-1ada-4310-acd8-4b5c5dec1f63",
   "metadata": {},
   "outputs": [
    {
     "name": "stdout",
     "output_type": "stream",
     "text": [
      "\n",
      "\u001b[32;1mName                          \u001b[0m\u001b[32;1m Value\u001b[0m\n",
      "\u001b[32;1m----                          \u001b[0m \u001b[32;1m-----\u001b[0m\n",
      "PSVersion                      7.4.6\n",
      "PSEdition                      Core\n",
      "GitCommitId                    7.4.6\n",
      "OS                             Debian GNU/Linux 12 (bookworm)\n",
      "Platform                       Unix\n",
      "PSCompatibleVersions           {1.0, 2.0, 3.0, 4.0…}\n",
      "PSRemotingProtocolVersion      2.3\n",
      "SerializationVersion           1.1.0.1\n",
      "WSManStackVersion              3.0\n",
      "----------------------------------------------------------------\n",
      "Python 3.12.9\n",
      "\n"
     ]
    }
   ],
   "source": [
    "$PSVersionTable\n",
    "Echo \"----------------------------------------------------------------\"\n",
    "python --version"
   ]
  },
  {
   "cell_type": "code",
   "execution_count": null,
   "id": "1f25c305-2fad-4359-895c-273c0cd188ff",
   "metadata": {},
   "outputs": [],
   "source": []
  }
 ],
 "metadata": {
  "kernelspec": {
   "display_name": ".NET (PowerShell)",
   "language": "PowerShell",
   "name": ".net-powershell"
  },
  "language_info": {
   "file_extension": ".ps1",
   "mimetype": "text/x-powershell",
   "name": "PowerShell",
   "pygments_lexer": "powershell",
   "version": "7.5"
  }
 },
 "nbformat": 4,
 "nbformat_minor": 5
}
